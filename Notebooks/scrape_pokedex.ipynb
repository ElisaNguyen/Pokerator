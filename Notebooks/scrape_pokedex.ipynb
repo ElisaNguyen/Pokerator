{
 "cells": [
  {
   "cell_type": "code",
   "execution_count": 1,
   "metadata": {},
   "outputs": [
    {
     "name": "stderr",
     "output_type": "stream",
     "text": [
      "Using TensorFlow backend.\n"
     ]
    }
   ],
   "source": [
    "import numpy\n",
    "import sys\n",
    "from nltk.tokenize import RegexpTokenizer\n",
    "from nltk.corpus import stopwords\n",
    "from keras.models import Sequential\n",
    "from keras.layers import Dense, Dropout, LSTM\n",
    "from keras.utils import np_utils\n",
    "from keras.callbacks import ModelCheckpoint"
   ]
  },
  {
   "cell_type": "code",
   "execution_count": 1,
   "metadata": {},
   "outputs": [],
   "source": [
    "from bs4 import BeautifulSoup\n",
    "import requests\n",
    "import pandas as pd\n",
    "pd.options.display.max_columns = None"
   ]
  },
  {
   "cell_type": "code",
   "execution_count": 2,
   "metadata": {},
   "outputs": [],
   "source": [
    "url = 'https://www.pokemon.com/us/pokedex/'\n",
    "page = requests.get(url)\n",
    "soup = BeautifulSoup(page.content, 'html.parser')"
   ]
  },
  {
   "cell_type": "code",
   "execution_count": 3,
   "metadata": {
    "scrolled": false
   },
   "outputs": [],
   "source": [
    "poks = soup.find_all('ul')[-3]"
   ]
  },
  {
   "cell_type": "code",
   "execution_count": 5,
   "metadata": {},
   "outputs": [],
   "source": [
    "\n",
    "df = pd.DataFrame(index = [pok['href'].split('/')[-1] for pok in poks.find_all('a')])\n"
   ]
  },
  {
   "cell_type": "code",
   "execution_count": 30,
   "metadata": {},
   "outputs": [
    {
     "data": {
      "text/html": [
       "<div>\n",
       "<style scoped>\n",
       "    .dataframe tbody tr th:only-of-type {\n",
       "        vertical-align: middle;\n",
       "    }\n",
       "\n",
       "    .dataframe tbody tr th {\n",
       "        vertical-align: top;\n",
       "    }\n",
       "\n",
       "    .dataframe thead th {\n",
       "        text-align: right;\n",
       "    }\n",
       "</style>\n",
       "<table border=\"1\" class=\"dataframe\">\n",
       "  <thead>\n",
       "    <tr style=\"text-align: right;\">\n",
       "      <th></th>\n",
       "      <th>url</th>\n",
       "      <th>bsp</th>\n",
       "    </tr>\n",
       "  </thead>\n",
       "  <tbody>\n",
       "    <tr>\n",
       "      <td>bulbasaur</td>\n",
       "      <td>https://www.pokemon.com/us/pokedex/bulbasaur</td>\n",
       "      <td>Bulbasaur can be seen napping in bright sunlig...</td>\n",
       "    </tr>\n",
       "    <tr>\n",
       "      <td>ivysaur</td>\n",
       "      <td>https://www.pokemon.com/us/pokedex/ivysaur</td>\n",
       "      <td>There is a bud on this Pokémon's back. To supp...</td>\n",
       "    </tr>\n",
       "    <tr>\n",
       "      <td>venusaur</td>\n",
       "      <td>https://www.pokemon.com/us/pokedex/venusaur</td>\n",
       "      <td>There is a large flower on Venusaur's back. Th...</td>\n",
       "    </tr>\n",
       "    <tr>\n",
       "      <td>charmander</td>\n",
       "      <td>https://www.pokemon.com/us/pokedex/charmander</td>\n",
       "      <td>The flame that burns at the tip of its tail is...</td>\n",
       "    </tr>\n",
       "    <tr>\n",
       "      <td>charmeleon</td>\n",
       "      <td>https://www.pokemon.com/us/pokedex/charmeleon</td>\n",
       "      <td>Charmeleon mercilessly destroys its foes using...</td>\n",
       "    </tr>\n",
       "    <tr>\n",
       "      <td>...</td>\n",
       "      <td>...</td>\n",
       "      <td>...</td>\n",
       "    </tr>\n",
       "    <tr>\n",
       "      <td>stakataka</td>\n",
       "      <td>https://www.pokemon.com/us/pokedex/stakataka</td>\n",
       "      <td>When stone walls started moving and attacking,...</td>\n",
       "    </tr>\n",
       "    <tr>\n",
       "      <td>blacephalon</td>\n",
       "      <td>https://www.pokemon.com/us/pokedex/blacephalon</td>\n",
       "      <td>A UB that appeared from an Ultra Wormhole, it\\...</td>\n",
       "    </tr>\n",
       "    <tr>\n",
       "      <td>zeraora</td>\n",
       "      <td>https://www.pokemon.com/us/pokedex/zeraora</td>\n",
       "      <td>It approaches its enemies at the speed of ligh...</td>\n",
       "    </tr>\n",
       "    <tr>\n",
       "      <td>meltan</td>\n",
       "      <td>https://www.pokemon.com/us/pokedex/meltan</td>\n",
       "      <td>It melts particles of iron and other metals fo...</td>\n",
       "    </tr>\n",
       "    <tr>\n",
       "      <td>melmetal</td>\n",
       "      <td>https://www.pokemon.com/us/pokedex/melmetal</td>\n",
       "      <td>Revered long ago for its capacity to create ir...</td>\n",
       "    </tr>\n",
       "  </tbody>\n",
       "</table>\n",
       "<p>809 rows × 2 columns</p>\n",
       "</div>"
      ],
      "text/plain": [
       "                                                        url  \\\n",
       "bulbasaur      https://www.pokemon.com/us/pokedex/bulbasaur   \n",
       "ivysaur          https://www.pokemon.com/us/pokedex/ivysaur   \n",
       "venusaur        https://www.pokemon.com/us/pokedex/venusaur   \n",
       "charmander    https://www.pokemon.com/us/pokedex/charmander   \n",
       "charmeleon    https://www.pokemon.com/us/pokedex/charmeleon   \n",
       "...                                                     ...   \n",
       "stakataka      https://www.pokemon.com/us/pokedex/stakataka   \n",
       "blacephalon  https://www.pokemon.com/us/pokedex/blacephalon   \n",
       "zeraora          https://www.pokemon.com/us/pokedex/zeraora   \n",
       "meltan            https://www.pokemon.com/us/pokedex/meltan   \n",
       "melmetal        https://www.pokemon.com/us/pokedex/melmetal   \n",
       "\n",
       "                                                           bsp  \n",
       "bulbasaur    Bulbasaur can be seen napping in bright sunlig...  \n",
       "ivysaur      There is a bud on this Pokémon's back. To supp...  \n",
       "venusaur     There is a large flower on Venusaur's back. Th...  \n",
       "charmander   The flame that burns at the tip of its tail is...  \n",
       "charmeleon   Charmeleon mercilessly destroys its foes using...  \n",
       "...                                                        ...  \n",
       "stakataka    When stone walls started moving and attacking,...  \n",
       "blacephalon  A UB that appeared from an Ultra Wormhole, it\\...  \n",
       "zeraora      It approaches its enemies at the speed of ligh...  \n",
       "meltan       It melts particles of iron and other metals fo...  \n",
       "melmetal     Revered long ago for its capacity to create ir...  \n",
       "\n",
       "[809 rows x 2 columns]"
      ]
     },
     "execution_count": 30,
     "metadata": {},
     "output_type": "execute_result"
    }
   ],
   "source": [
    "df['url'] = url + df.index\n",
    "df['bsp']=df['url'].apply(lambda url: BeautifulSoup(requests.get(url).content, 'html.parser').find(\"meta\", {\"name\":\"description\"})['content'])\n",
    "df"
   ]
  },
  {
   "cell_type": "code",
   "execution_count": 32,
   "metadata": {},
   "outputs": [
    {
     "data": {
      "text/html": [
       "<div>\n",
       "<style scoped>\n",
       "    .dataframe tbody tr th:only-of-type {\n",
       "        vertical-align: middle;\n",
       "    }\n",
       "\n",
       "    .dataframe tbody tr th {\n",
       "        vertical-align: top;\n",
       "    }\n",
       "\n",
       "    .dataframe thead th {\n",
       "        text-align: right;\n",
       "    }\n",
       "</style>\n",
       "<table border=\"1\" class=\"dataframe\">\n",
       "  <thead>\n",
       "    <tr style=\"text-align: right;\">\n",
       "      <th></th>\n",
       "      <th>bsp</th>\n",
       "    </tr>\n",
       "  </thead>\n",
       "  <tbody>\n",
       "    <tr>\n",
       "      <td>bulbasaur</td>\n",
       "      <td>Bulbasaur can be seen napping in bright sunlig...</td>\n",
       "    </tr>\n",
       "    <tr>\n",
       "      <td>ivysaur</td>\n",
       "      <td>There is a bud on this Pokémon's back. To supp...</td>\n",
       "    </tr>\n",
       "    <tr>\n",
       "      <td>venusaur</td>\n",
       "      <td>There is a large flower on Venusaur's back. Th...</td>\n",
       "    </tr>\n",
       "    <tr>\n",
       "      <td>charmander</td>\n",
       "      <td>The flame that burns at the tip of its tail is...</td>\n",
       "    </tr>\n",
       "    <tr>\n",
       "      <td>charmeleon</td>\n",
       "      <td>Charmeleon mercilessly destroys its foes using...</td>\n",
       "    </tr>\n",
       "    <tr>\n",
       "      <td>...</td>\n",
       "      <td>...</td>\n",
       "    </tr>\n",
       "    <tr>\n",
       "      <td>stakataka</td>\n",
       "      <td>When stone walls started moving and attacking,...</td>\n",
       "    </tr>\n",
       "    <tr>\n",
       "      <td>blacephalon</td>\n",
       "      <td>A UB that appeared from an Ultra Wormhole, it\\...</td>\n",
       "    </tr>\n",
       "    <tr>\n",
       "      <td>zeraora</td>\n",
       "      <td>It approaches its enemies at the speed of ligh...</td>\n",
       "    </tr>\n",
       "    <tr>\n",
       "      <td>meltan</td>\n",
       "      <td>It melts particles of iron and other metals fo...</td>\n",
       "    </tr>\n",
       "    <tr>\n",
       "      <td>melmetal</td>\n",
       "      <td>Revered long ago for its capacity to create ir...</td>\n",
       "    </tr>\n",
       "  </tbody>\n",
       "</table>\n",
       "<p>809 rows × 1 columns</p>\n",
       "</div>"
      ],
      "text/plain": [
       "                                                           bsp\n",
       "bulbasaur    Bulbasaur can be seen napping in bright sunlig...\n",
       "ivysaur      There is a bud on this Pokémon's back. To supp...\n",
       "venusaur     There is a large flower on Venusaur's back. Th...\n",
       "charmander   The flame that burns at the tip of its tail is...\n",
       "charmeleon   Charmeleon mercilessly destroys its foes using...\n",
       "...                                                        ...\n",
       "stakataka    When stone walls started moving and attacking,...\n",
       "blacephalon  A UB that appeared from an Ultra Wormhole, it\\...\n",
       "zeraora      It approaches its enemies at the speed of ligh...\n",
       "meltan       It melts particles of iron and other metals fo...\n",
       "melmetal     Revered long ago for its capacity to create ir...\n",
       "\n",
       "[809 rows x 1 columns]"
      ]
     },
     "execution_count": 32,
     "metadata": {},
     "output_type": "execute_result"
    }
   ],
   "source": [
    "df.drop('url', axis=1, inplace=True)\n",
    "df"
   ]
  },
  {
   "cell_type": "code",
   "execution_count": null,
   "metadata": {},
   "outputs": [],
   "source": []
  },
  {
   "cell_type": "code",
   "execution_count": 55,
   "metadata": {},
   "outputs": [],
   "source": [
    "df = df.T.rename({'bsp':''}, axis=1).T\n"
   ]
  },
  {
   "cell_type": "code",
   "execution_count": 57,
   "metadata": {},
   "outputs": [],
   "source": [
    "df.to_excel('pokedex.xlsx')"
   ]
  }
 ],
 "metadata": {
  "kernelspec": {
   "display_name": "Python 3",
   "language": "python",
   "name": "python3"
  },
  "language_info": {
   "codemirror_mode": {
    "name": "ipython",
    "version": 3
   },
   "file_extension": ".py",
   "mimetype": "text/x-python",
   "name": "python",
   "nbconvert_exporter": "python",
   "pygments_lexer": "ipython3",
   "version": "3.7.4"
  }
 },
 "nbformat": 4,
 "nbformat_minor": 2
}
